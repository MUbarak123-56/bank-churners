{
 "cells": [
  {
   "cell_type": "code",
   "execution_count": 1,
   "metadata": {},
   "outputs": [],
   "source": [
    "from sklearn.feature_selection import RFECV\n",
    "from sklearn.linear_model import Lasso, ElasticNetCV\n",
    "from sklearn.linear_model import Ridge\n",
    "from sklearn.svm import SVC\n",
    "from sklearn.linear_model import LogisticRegression\n",
    "import pandas as pd\n",
    "import numpy as np"
   ]
  },
  {
   "cell_type": "code",
   "execution_count": 2,
   "metadata": {},
   "outputs": [],
   "source": [
    "train = pd.read_csv(\"data/train_fe.csv\")"
   ]
  },
  {
   "cell_type": "code",
   "execution_count": 3,
   "metadata": {},
   "outputs": [],
   "source": [
    "X = train.drop([\"clientnum\", \"attrition_flag\"], axis = 1)\n",
    "y = train[\"attrition_flag\"]"
   ]
  },
  {
   "cell_type": "code",
   "execution_count": 4,
   "metadata": {},
   "outputs": [],
   "source": [
    "estimator = ElasticNetCV(alphas=[0.1,0.3,0.5], cv =3)\n",
    "selector = RFECV(estimator, min_features_to_select=20, step=10)\n",
    "selector = selector.fit(X, y)\n",
    "rfe = selector.ranking_\n",
    "features = list(selector.feature_names_in_)\n",
    "rfe_df = pd.DataFrame({'features': features, 'rfe_rank': rfe}, index = np.arange(len(features)))"
   ]
  },
  {
   "cell_type": "code",
   "execution_count": 5,
   "metadata": {},
   "outputs": [
    {
     "data": {
      "text/plain": [
       "['dependent_count_scaled',\n",
       " 'education_level_college',\n",
       " 'education_level_doctorate',\n",
       " 'education_level_graduate',\n",
       " 'education_level_high_school',\n",
       " 'education_level_post_graduate',\n",
       " 'education_level_uneducated',\n",
       " 'education_level_unknown',\n",
       " 'marital_status_divorced',\n",
       " 'marital_status_married',\n",
       " 'marital_status_single',\n",
       " 'marital_status_unknown',\n",
       " 'income_category_$120k_+',\n",
       " 'income_category_$40k_$60k',\n",
       " 'income_category_$60k_$80k',\n",
       " 'income_category_$80k_$120k',\n",
       " 'income_category_less_than_$40k',\n",
       " 'income_category_unknown',\n",
       " 'card_category_blue',\n",
       " 'card_category_gold',\n",
       " 'card_category_platinum',\n",
       " 'card_category_silver',\n",
       " 'months_on_book_scaled',\n",
       " 'total_relationship_count_scaled',\n",
       " 'marriage_education_single_graduate',\n",
       " 'marriage_education_single_high_school',\n",
       " 'marriage_education_single_post_graduate',\n",
       " 'marriage_education_single_uneducated',\n",
       " 'marriage_education_single_unknown',\n",
       " 'marriage_education_unknown_college',\n",
       " 'marriage_education_unknown_doctorate',\n",
       " 'marriage_education_unknown_graduate',\n",
       " 'marriage_education_unknown_high_school',\n",
       " 'marriage_education_unknown_post_graduate',\n",
       " 'marriage_education_unknown_uneducated',\n",
       " 'marriage_education_unknown_unknown']"
      ]
     },
     "execution_count": 5,
     "metadata": {},
     "output_type": "execute_result"
    }
   ],
   "source": [
    "columns_to_use = list(rfe_df[rfe_df[\"rfe_rank\"] <= 3][\"features\"])\n",
    "columns_to_use"
   ]
  },
  {
   "cell_type": "code",
   "execution_count": null,
   "metadata": {},
   "outputs": [],
   "source": []
  },
  {
   "cell_type": "code",
   "execution_count": null,
   "metadata": {},
   "outputs": [],
   "source": []
  }
 ],
 "metadata": {
  "kernelspec": {
   "display_name": "Python 3 (ipykernel)",
   "language": "python",
   "name": "python3"
  },
  "language_info": {
   "codemirror_mode": {
    "name": "ipython",
    "version": 3
   },
   "file_extension": ".py",
   "mimetype": "text/x-python",
   "name": "python",
   "nbconvert_exporter": "python",
   "pygments_lexer": "ipython3",
   "version": "3.9.12"
  }
 },
 "nbformat": 4,
 "nbformat_minor": 2
}
