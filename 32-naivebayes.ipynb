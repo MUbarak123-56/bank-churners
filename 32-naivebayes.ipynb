{
 "cells": [
  {
   "cell_type": "code",
   "execution_count": 1,
   "id": "a670e014",
   "metadata": {},
   "outputs": [],
   "source": [
    "import pandas as pd\n",
    "from sklearn.svm import SVC\n",
    "from sklearn.naive_bayes import GaussianNB\n",
    "from sklearn.metrics import classification_report, accuracy_score, f1_score, recall_score, precision_score\n",
    "from sklearn.metrics import roc_auc_score, roc_curve, precision_recall_curve, confusion_matrix\n",
    "import seaborn as sns; sns.set_style(\"dark\")"
   ]
  },
  {
   "cell_type": "code",
   "execution_count": 2,
   "id": "43aff179",
   "metadata": {},
   "outputs": [],
   "source": [
    "train = pd.read_csv(\"data/train_fe.csv\")\n",
    "val = pd.read_csv(\"data/val_fe.csv\")\n",
    "test = pd.read_csv(\"data/test_fe.csv\")"
   ]
  },
  {
   "cell_type": "code",
   "execution_count": 3,
   "id": "f2fc3f05",
   "metadata": {},
   "outputs": [],
   "source": [
    "columns_to_use = ['dependent_count_scaled',\n",
    " 'education_level_college',\n",
    " 'education_level_doctorate',\n",
    " 'education_level_graduate',\n",
    " 'education_level_high_school',\n",
    " 'education_level_post_graduate',\n",
    " 'education_level_uneducated',\n",
    " 'education_level_unknown',\n",
    " 'marital_status_divorced',\n",
    " 'marital_status_married',\n",
    " 'marital_status_single',\n",
    " 'marital_status_unknown',\n",
    " 'income_category_$120k_+',\n",
    " 'income_category_$40k_$60k',\n",
    " 'income_category_$60k_$80k',\n",
    " 'income_category_$80k_$120k',\n",
    " 'income_category_less_than_$40k',\n",
    " 'income_category_unknown',\n",
    " 'card_category_blue',\n",
    " 'card_category_gold',\n",
    " 'card_category_platinum',\n",
    " 'card_category_silver',\n",
    " 'months_on_book_scaled',\n",
    " 'total_relationship_count_scaled',\n",
    " 'marriage_education_single_graduate',\n",
    " 'marriage_education_single_high_school',\n",
    " 'marriage_education_single_post_graduate',\n",
    " 'marriage_education_single_uneducated',\n",
    " 'marriage_education_single_unknown',\n",
    " 'marriage_education_unknown_college',\n",
    " 'marriage_education_unknown_doctorate',\n",
    " 'marriage_education_unknown_graduate',\n",
    " 'marriage_education_unknown_high_school',\n",
    " 'marriage_education_unknown_post_graduate',\n",
    " 'marriage_education_unknown_uneducated',\n",
    " 'marriage_education_unknown_unknown', 'attrition_flag']"
   ]
  },
  {
   "cell_type": "code",
   "execution_count": 4,
   "id": "ea84a84e",
   "metadata": {},
   "outputs": [],
   "source": [
    "train = train[columns_to_use]\n",
    "val = val[columns_to_use]\n",
    "test = test[columns_to_use]"
   ]
  },
  {
   "cell_type": "code",
   "execution_count": 5,
   "id": "7f474b80",
   "metadata": {},
   "outputs": [],
   "source": [
    "x_train, y_train = train.drop('attrition_flag', axis = 1), train[\"attrition_flag\"]"
   ]
  },
  {
   "cell_type": "code",
   "execution_count": 6,
   "id": "18152d86",
   "metadata": {},
   "outputs": [],
   "source": [
    "x_val, y_val = val.drop('attrition_flag', axis = 1), val[\"attrition_flag\"]"
   ]
  },
  {
   "cell_type": "code",
   "execution_count": 7,
   "id": "3bcdb2a6",
   "metadata": {},
   "outputs": [],
   "source": [
    "x_test, y_test = test.drop('attrition_flag', axis = 1), test[\"attrition_flag\"]"
   ]
  },
  {
   "cell_type": "markdown",
   "id": "c34911f7",
   "metadata": {},
   "source": [
    "### Model Fitting"
   ]
  },
  {
   "cell_type": "code",
   "execution_count": 8,
   "id": "63fd1a54",
   "metadata": {},
   "outputs": [],
   "source": [
    "nb = GaussianNB()"
   ]
  },
  {
   "cell_type": "code",
   "execution_count": 9,
   "id": "52db4b2c",
   "metadata": {},
   "outputs": [],
   "source": [
    "model = nb.fit(x_train, y_train)"
   ]
  },
  {
   "cell_type": "code",
   "execution_count": 10,
   "id": "10da2445",
   "metadata": {},
   "outputs": [
    {
     "name": "stdout",
     "output_type": "stream",
     "text": [
      "              precision    recall  f1-score   support\n",
      "\n",
      "           0       0.85      0.90      0.87      5439\n",
      "           1       0.23      0.16      0.19      1041\n",
      "\n",
      "    accuracy                           0.78      6480\n",
      "   macro avg       0.54      0.53      0.53      6480\n",
      "weighted avg       0.75      0.78      0.76      6480\n",
      "\n"
     ]
    }
   ],
   "source": [
    "pred_train = model.predict(x_train)\n",
    "print(classification_report(y_train, pred_train))"
   ]
  },
  {
   "cell_type": "code",
   "execution_count": 11,
   "id": "62bda274",
   "metadata": {},
   "outputs": [
    {
     "data": {
      "text/plain": [
       "<AxesSubplot:>"
      ]
     },
     "execution_count": 11,
     "metadata": {},
     "output_type": "execute_result"
    },
    {
     "data": {
      "image/png": "[encoded data removed]",
      "text/plain": [
       "<Figure size 432x288 with 2 Axes>"
      ]
     },
     "metadata": {},
     "output_type": "display_data"
    }
   ],
   "source": [
    "conf = confusion_matrix(y_train, pred_train)\n",
    "sns.heatmap(conf, annot = True, cmap = \"RdBu\")"
   ]
  },
  {
   "cell_type": "code",
   "execution_count": 12,
   "id": "059a94ad",
   "metadata": {},
   "outputs": [
    {
     "name": "stdout",
     "output_type": "stream",
     "text": [
      "              precision    recall  f1-score   support\n",
      "\n",
      "           0       0.84      0.89      0.86      1360\n",
      "           1       0.18      0.13      0.15       261\n",
      "\n",
      "    accuracy                           0.76      1621\n",
      "   macro avg       0.51      0.51      0.51      1621\n",
      "weighted avg       0.74      0.76      0.75      1621\n",
      "\n"
     ]
    }
   ],
   "source": [
    "pred_val = model.predict(x_val)\n",
    "print(classification_report(y_val, pred_val))"
   ]
  },
  {
   "cell_type": "code",
   "execution_count": 13,
   "id": "bcda9dce",
   "metadata": {},
   "outputs": [
    {
     "data": {
      "text/plain": [
       "<AxesSubplot:>"
      ]
     },
     "execution_count": 13,
     "metadata": {},
     "output_type": "execute_result"
    },
    {
     "data": {
      "image/png": "[encoded data removed]",
      "text/plain": [
       "<Figure size 432x288 with 2 Axes>"
      ]
     },
     "metadata": {},
     "output_type": "display_data"
    }
   ],
   "source": [
    "conf = confusion_matrix(y_val, pred_val)\n",
    "sns.heatmap(conf, annot = True, cmap = \"RdBu\")"
   ]
  },
  {
   "cell_type": "code",
   "execution_count": 14,
   "id": "1b3f1119",
   "metadata": {},
   "outputs": [
    {
     "name": "stdout",
     "output_type": "stream",
     "text": [
      "              precision    recall  f1-score   support\n",
      "\n",
      "           0       0.85      0.91      0.88      1701\n",
      "           1       0.22      0.14      0.17       325\n",
      "\n",
      "    accuracy                           0.78      2026\n",
      "   macro avg       0.53      0.52      0.52      2026\n",
      "weighted avg       0.75      0.78      0.76      2026\n",
      "\n"
     ]
    }
   ],
   "source": [
    "pred_test = model.predict(x_test)\n",
    "print(classification_report(y_test, pred_test))"
   ]
  },
  {
   "cell_type": "code",
   "execution_count": 15,
   "id": "232676a8",
   "metadata": {},
   "outputs": [
    {
     "data": {
      "text/plain": [
       "<AxesSubplot:>"
      ]
     },
     "execution_count": 15,
     "metadata": {},
     "output_type": "execute_result"
    },
    {
     "data": {
      "image/png": "[encoded data removed]",
      "text/plain": [
       "<Figure size 432x288 with 2 Axes>"
      ]
     },
     "metadata": {},
     "output_type": "display_data"
    }
   ],
   "source": [
    "conf = confusion_matrix(y_test, pred_test)\n",
    "sns.heatmap(conf, annot = True, cmap = \"RdBu\")"
   ]
  },
  {
   "cell_type": "code",
   "execution_count": null,
   "id": "f6482908",
   "metadata": {},
   "outputs": [],
   "source": []
  }
 ],
 "metadata": {
  "kernelspec": {
   "display_name": "Python 3 (ipykernel)",
   "language": "python",
   "name": "python3"
  },
  "language_info": {
   "codemirror_mode": {
    "name": "ipython",
    "version": 3
   },
   "file_extension": ".py",
   "mimetype": "text/x-python",
   "name": "python",
   "nbconvert_exporter": "python",
   "pygments_lexer": "ipython3",
   "version": "3.9.12"
  }
 },
 "nbformat": 4,
 "nbformat_minor": 5
}
